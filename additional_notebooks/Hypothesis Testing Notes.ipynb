{
 "cells": [
  {
   "cell_type": "code",
   "execution_count": 4,
   "metadata": {},
   "outputs": [
    {
     "ename": "IndentationError",
     "evalue": "unindent does not match any outer indentation level (<ipython-input-4-e24b5bc00f65>, line 14)",
     "output_type": "error",
     "traceback": [
      "\u001b[0;36m  File \u001b[0;32m\"<ipython-input-4-e24b5bc00f65>\"\u001b[0;36m, line \u001b[0;32m14\u001b[0m\n\u001b[0;31m    print (pval)\u001b[0m\n\u001b[0m                ^\u001b[0m\n\u001b[0;31mIndentationError\u001b[0m\u001b[0;31m:\u001b[0m unindent does not match any outer indentation level\n"
     ]
    }
   ],
   "source": [
    "from scipy.stats import ttest_1samp\n",
    "import numpy as np\n",
    "\n",
    "correct_results = 0 # Start the counter at 0\n",
    "\n",
    "daily_visitors = np.genfromtxt(\"daily_visitors.csv\", delimiter=\",\")\n",
    "\n",
    "for i in range(1000): # 1000 experiments\n",
    "   #your ttest here:\n",
    "   t, pval = ttest_1samp(daily_visitors[i], 30) # perform t-test\n",
    "if pval < 0.05: # check our p-value\n",
    "       correct_results += 1\n",
    "    #print the pvalue here:\n",
    "    print (pval)\n",
    "print (\"We correctly recognized that the distribution was different in \" + str(correct_results) + \" out of 1000 experiments.\")\n",
    "  "
   ]
  },
  {
   "cell_type": "code",
   "execution_count": null,
   "metadata": {},
   "outputs": [],
   "source": []
  }
 ],
 "metadata": {
  "kernelspec": {
   "display_name": "Python 3",
   "language": "python",
   "name": "python3"
  },
  "language_info": {
   "codemirror_mode": {
    "name": "ipython",
    "version": 3
   },
   "file_extension": ".py",
   "mimetype": "text/x-python",
   "name": "python",
   "nbconvert_exporter": "python",
   "pygments_lexer": "ipython3",
   "version": "3.6.8"
  }
 },
 "nbformat": 4,
 "nbformat_minor": 2
}
