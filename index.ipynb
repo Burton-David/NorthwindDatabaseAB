{
 "cells": [
  {
   "cell_type": "markdown",
   "metadata": {},
   "source": [
    "# Module 2 Final Project Specifications\n",
    "\n",
    "## Introduction\n",
    "\n",
    "In this lesson, we'll review all the guidelines and specifications for the final project for Module 2. \n",
    "\n",
    "## Objectives\n",
    "\n",
    "* Understand all required aspects of the Final Project for Module 2\n",
    "* Understand all required deliverables\n",
    "* Understand what constitutes a successful project\n",
    "\n",
    "### Final Project Summary\n",
    "\n",
    "Another module down--you're half way there!\n",
    "\n",
    "<img src='halfway-there.gif'>\n",
    "\n",
    "For the culmination of Module 2, you just need to complete the final project!\n",
    "\n",
    "### The Project\n",
    "\n",
    "For this project, you'll be working with the Northwind database--a free, open-source dataset created by Microsoft containing data from a fictional company. You probably remember the Northwind database from our section on Advanced SQL. Here's the schema for the Northwind database:\n",
    "\n",
    "<img src='Northwind_ERD.png'>\n",
    "\n",
    "The goal of this project is to test your ability to gather information from a real-world database and use your knowledge of statistical analysis and hypothesis testing to generate analytical insights that can be of value to the company. \n",
    "\n",
    "## The Deliverables\n",
    "\n",
    "The goal of your project is to query the database to get the data needed to perform a statistical analysis.  In this statistical analysis, you'll need to perform a hypothesis test (or perhaps several) to answer the following question:\n",
    "\n",
    "**_Do discounts have a statistically significant effect on the number of products customers order? If so, at what level(s) of discount?_**\n",
    "\n",
    "In addition to answering this question with a hypothesis test, you will also need to come up with **_at least 3 other hypotheses to test on your own_**.  These can by anything that you think could be imporant information for the company. \n",
    "\n",
    "For this hypothesis, be sure to specify both the **_null hypothesis_** and the **_alternative hypothesis_** for your question.  You should also specify if this is one-tail or a two-tail test. \n",
    "\n",
    "To complete this project, you will need to turn in the following 3 deliverables:\n",
    "\n",
    "1. A **_Jupyter Notebook_** containing any code you've written for this project. \n",
    "2. A **_Blog Post_** explaining your process, methodology, and findings.  \n",
    "3. An **_\"Executive Summary\" PowerPoint Presentation_** that explains the hypothesis tests you ran, your findings, and their relevance to company stakeholders.  \n",
    "\n",
    "### Jupyter Notebook Must-Haves\n",
    "\n",
    "For this project, your jupyter notebook should meet the following specifications:\n",
    "\n",
    "**_Organization/Code Cleanliness_**\n",
    "\n",
    "* The notebook should be well organized, easy to follow, and code is commented where appropriate.  \n",
    "<br>  \n",
    "    * Level Up: The notebook contains well-formatted, professional looking markdown cells explaining any substantial code. All functions have docstrings that act as professional-quality documentation.  \n",
    "<br>      \n",
    "* The notebook is written to technical audiences with a way to both understand your approach and reproduce your results. The target audience for this deliverable is other data scientists looking to validate your findings.  \n",
    "<br>    \n",
    "* Any SQL code written to source data should also be included.  \n",
    "\n",
    "**_Findings_**\n",
    "\n",
    "* Your notebook should clearly show how you arrived at your results for each hypothesis test, including how you calculated your p-values.   \n",
    "<br>\n",
    "* You should also include any other statistics that you find relevant to your analysis, such as effect size. \n",
    "\n",
    "### Blog Post Must-Haves\n",
    "\n",
    "Your blog post should include everything from how you identified what tables contained the information you need, to how you retrieved it using SQL (and any challenges you ran into while doing so), as well as your methodology and results for your hypothesis tests. \n",
    "\n",
    "**_NOTE:_**  This blog post is your way of showcasing the work you've done on this project--chances are it will soon be read by a recruiter or hiring manager! Take the time to make sure that you craft your story well, and clearly explain your process and findings in a way that clearly shows both your technical expertise **_and_** your ability to communicate your results!\n",
    "\n",
    "### Executive Summary Must-Haves\n",
    "\n",
    "Your presentation should:\n",
    "\n",
    "* Contain between 5-10 professional quality slides detailing:\n",
    "<br>  \n",
    "    * A high-level overview of your methodology  \n",
    "    <br>  \n",
    "    * The results of your hypothesis tests  \n",
    "    <br>  \n",
    "    * Any real-world recommendations you would like to make based on your findings (ask yourself--why should the executive team care about what you found? How can your findings help the company?)  \n",
    "    <br>  \n",
    "* Take no more than 5 minutes to present  \n",
    "<br>  \n",
    "* Avoid technical jargon and explain results in a clear, actionable way for non-technical audiences.  "
   ]
  },
  {
   "cell_type": "code",
   "execution_count": 1,
   "metadata": {},
   "outputs": [
    {
     "data": {
      "text/html": [
       "<div>\n",
       "<style scoped>\n",
       "    .dataframe tbody tr th:only-of-type {\n",
       "        vertical-align: middle;\n",
       "    }\n",
       "\n",
       "    .dataframe tbody tr th {\n",
       "        vertical-align: top;\n",
       "    }\n",
       "\n",
       "    .dataframe thead th {\n",
       "        text-align: right;\n",
       "    }\n",
       "</style>\n",
       "<table border=\"1\" class=\"dataframe\">\n",
       "  <thead>\n",
       "    <tr style=\"text-align: right;\">\n",
       "      <th></th>\n",
       "      <th>Id</th>\n",
       "      <th>OrderId</th>\n",
       "      <th>ProductId</th>\n",
       "      <th>UnitPrice</th>\n",
       "      <th>Quantity</th>\n",
       "      <th>Discount</th>\n",
       "    </tr>\n",
       "  </thead>\n",
       "  <tbody>\n",
       "    <tr>\n",
       "      <th>0</th>\n",
       "      <td>10248/11</td>\n",
       "      <td>10248</td>\n",
       "      <td>11</td>\n",
       "      <td>14.0</td>\n",
       "      <td>12</td>\n",
       "      <td>0.0</td>\n",
       "    </tr>\n",
       "    <tr>\n",
       "      <th>1</th>\n",
       "      <td>10248/42</td>\n",
       "      <td>10248</td>\n",
       "      <td>42</td>\n",
       "      <td>9.8</td>\n",
       "      <td>10</td>\n",
       "      <td>0.0</td>\n",
       "    </tr>\n",
       "    <tr>\n",
       "      <th>2</th>\n",
       "      <td>10248/72</td>\n",
       "      <td>10248</td>\n",
       "      <td>72</td>\n",
       "      <td>34.8</td>\n",
       "      <td>5</td>\n",
       "      <td>0.0</td>\n",
       "    </tr>\n",
       "    <tr>\n",
       "      <th>3</th>\n",
       "      <td>10249/14</td>\n",
       "      <td>10249</td>\n",
       "      <td>14</td>\n",
       "      <td>18.6</td>\n",
       "      <td>9</td>\n",
       "      <td>0.0</td>\n",
       "    </tr>\n",
       "    <tr>\n",
       "      <th>4</th>\n",
       "      <td>10249/51</td>\n",
       "      <td>10249</td>\n",
       "      <td>51</td>\n",
       "      <td>42.4</td>\n",
       "      <td>40</td>\n",
       "      <td>0.0</td>\n",
       "    </tr>\n",
       "  </tbody>\n",
       "</table>\n",
       "</div>"
      ],
      "text/plain": [
       "         Id  OrderId  ProductId  UnitPrice  Quantity  Discount\n",
       "0  10248/11    10248         11       14.0        12       0.0\n",
       "1  10248/42    10248         42        9.8        10       0.0\n",
       "2  10248/72    10248         72       34.8         5       0.0\n",
       "3  10249/14    10249         14       18.6         9       0.0\n",
       "4  10249/51    10249         51       42.4        40       0.0"
      ]
     },
     "execution_count": 1,
     "metadata": {},
     "output_type": "execute_result"
    }
   ],
   "source": [
    "import pandas as pd\n",
    "import sqlite3\n",
    "import numpy as np\n",
    "\n",
    "import scipy.stats as stat\n",
    "\n",
    "from __future__ import print_function\n",
    "\n",
    "#data visualization imports\n",
    "import matplotlib.pyplot as plt\n",
    "import seaborn as sns\n",
    "\n",
    "#for ANOVA\n",
    "import statsmodels.api as sm\n",
    "from statsmodels.formula.api import ols\n",
    "from statsmodels.stats.multicomp import pairwise_tukeyhsd\n",
    "from statsmodels.stats.multicomp import MultiComparison\n",
    "\n",
    "# create a connection to the database\n",
    "conn = sqlite3.connect('Northwind_small.sqlite', detect_types=sqlite3.PARSE_COLNAMES)\n",
    "c = conn.cursor()\n",
    "\n",
    "# query the database\n",
    "c.execute(\"SELECT * FROM OrderDetail;\")\n",
    "\n",
    "# store results in a dataframe\n",
    "orders = pd.DataFrame(c.fetchall())\n",
    "orders.columns = [i[0] for i in c.description]\n",
    "orders.head()"
   ]
  },
  {
   "cell_type": "code",
   "execution_count": 6,
   "metadata": {},
   "outputs": [
    {
     "data": {
      "text/plain": [
       "Id           0\n",
       "OrderId      0\n",
       "ProductId    0\n",
       "UnitPrice    0\n",
       "Quantity     0\n",
       "Discount     0\n",
       "dtype: int64"
      ]
     },
     "execution_count": 6,
     "metadata": {},
     "output_type": "execute_result"
    }
   ],
   "source": [
    "orders.isna().sum()"
   ]
  },
  {
   "cell_type": "code",
   "execution_count": 7,
   "metadata": {},
   "outputs": [
    {
     "data": {
      "text/html": [
       "<div>\n",
       "<style scoped>\n",
       "    .dataframe tbody tr th:only-of-type {\n",
       "        vertical-align: middle;\n",
       "    }\n",
       "\n",
       "    .dataframe tbody tr th {\n",
       "        vertical-align: top;\n",
       "    }\n",
       "\n",
       "    .dataframe thead th {\n",
       "        text-align: right;\n",
       "    }\n",
       "</style>\n",
       "<table border=\"1\" class=\"dataframe\">\n",
       "  <thead>\n",
       "    <tr style=\"text-align: right;\">\n",
       "      <th></th>\n",
       "      <th>OrderId</th>\n",
       "      <th>ProductId</th>\n",
       "      <th>UnitPrice</th>\n",
       "      <th>Quantity</th>\n",
       "      <th>Discount</th>\n",
       "    </tr>\n",
       "  </thead>\n",
       "  <tbody>\n",
       "    <tr>\n",
       "      <th>count</th>\n",
       "      <td>2155.000000</td>\n",
       "      <td>2155.000000</td>\n",
       "      <td>2155.000000</td>\n",
       "      <td>2155.000000</td>\n",
       "      <td>2155.000000</td>\n",
       "    </tr>\n",
       "    <tr>\n",
       "      <th>mean</th>\n",
       "      <td>10659.375870</td>\n",
       "      <td>40.793039</td>\n",
       "      <td>26.218520</td>\n",
       "      <td>23.812993</td>\n",
       "      <td>0.056167</td>\n",
       "    </tr>\n",
       "    <tr>\n",
       "      <th>std</th>\n",
       "      <td>241.378032</td>\n",
       "      <td>22.159019</td>\n",
       "      <td>29.827418</td>\n",
       "      <td>19.022047</td>\n",
       "      <td>0.083450</td>\n",
       "    </tr>\n",
       "    <tr>\n",
       "      <th>min</th>\n",
       "      <td>10248.000000</td>\n",
       "      <td>1.000000</td>\n",
       "      <td>2.000000</td>\n",
       "      <td>1.000000</td>\n",
       "      <td>0.000000</td>\n",
       "    </tr>\n",
       "    <tr>\n",
       "      <th>25%</th>\n",
       "      <td>10451.000000</td>\n",
       "      <td>22.000000</td>\n",
       "      <td>12.000000</td>\n",
       "      <td>10.000000</td>\n",
       "      <td>0.000000</td>\n",
       "    </tr>\n",
       "    <tr>\n",
       "      <th>50%</th>\n",
       "      <td>10657.000000</td>\n",
       "      <td>41.000000</td>\n",
       "      <td>18.400000</td>\n",
       "      <td>20.000000</td>\n",
       "      <td>0.000000</td>\n",
       "    </tr>\n",
       "    <tr>\n",
       "      <th>75%</th>\n",
       "      <td>10862.500000</td>\n",
       "      <td>60.000000</td>\n",
       "      <td>32.000000</td>\n",
       "      <td>30.000000</td>\n",
       "      <td>0.100000</td>\n",
       "    </tr>\n",
       "    <tr>\n",
       "      <th>max</th>\n",
       "      <td>11077.000000</td>\n",
       "      <td>77.000000</td>\n",
       "      <td>263.500000</td>\n",
       "      <td>130.000000</td>\n",
       "      <td>0.250000</td>\n",
       "    </tr>\n",
       "  </tbody>\n",
       "</table>\n",
       "</div>"
      ],
      "text/plain": [
       "            OrderId    ProductId    UnitPrice     Quantity     Discount\n",
       "count   2155.000000  2155.000000  2155.000000  2155.000000  2155.000000\n",
       "mean   10659.375870    40.793039    26.218520    23.812993     0.056167\n",
       "std      241.378032    22.159019    29.827418    19.022047     0.083450\n",
       "min    10248.000000     1.000000     2.000000     1.000000     0.000000\n",
       "25%    10451.000000    22.000000    12.000000    10.000000     0.000000\n",
       "50%    10657.000000    41.000000    18.400000    20.000000     0.000000\n",
       "75%    10862.500000    60.000000    32.000000    30.000000     0.100000\n",
       "max    11077.000000    77.000000   263.500000   130.000000     0.250000"
      ]
     },
     "execution_count": 7,
     "metadata": {},
     "output_type": "execute_result"
    }
   ],
   "source": [
    "orders.describe()"
   ]
  },
  {
   "cell_type": "code",
   "execution_count": 8,
   "metadata": {},
   "outputs": [
    {
     "name": "stdout",
     "output_type": "stream",
     "text": [
      "<class 'pandas.core.frame.DataFrame'>\n",
      "RangeIndex: 2155 entries, 0 to 2154\n",
      "Data columns (total 6 columns):\n",
      "Id           2155 non-null object\n",
      "OrderId      2155 non-null int64\n",
      "ProductId    2155 non-null int64\n",
      "UnitPrice    2155 non-null float64\n",
      "Quantity     2155 non-null int64\n",
      "Discount     2155 non-null float64\n",
      "dtypes: float64(2), int64(3), object(1)\n",
      "memory usage: 101.1+ KB\n"
     ]
    }
   ],
   "source": [
    "orders.info()"
   ]
  },
  {
   "cell_type": "code",
   "execution_count": 9,
   "metadata": {},
   "outputs": [
    {
     "name": "stderr",
     "output_type": "stream",
     "text": [
      "/anaconda3/envs/learn-env/lib/python3.6/site-packages/scipy/stats/stats.py:1713: FutureWarning: Using a non-tuple sequence for multidimensional indexing is deprecated; use `arr[tuple(seq)]` instead of `arr[seq]`. In the future this will be interpreted as an array index, `arr[np.array(seq)]`, which will result either in an error or a different result.\n",
      "  return np.add.reduce(sorted[indexer] * weights, axis=axis) / sumval\n"
     ]
    },
    {
     "data": {
      "text/plain": [
       "Text(0.5, 0, 'Quantity of Product')"
      ]
     },
     "execution_count": 9,
     "metadata": {},
     "output_type": "execute_result"
    },
    {
     "data": {
      "image/png": "[encoded data removed]",
      "text/plain": [
       "<Figure size 1800x1080 with 1 Axes>"
      ]
     },
     "metadata": {},
     "output_type": "display_data"
    }
   ],
   "source": [
    "sns.set_style('dark')\n",
    "\n",
    "plt.figure(figsize=(25, 15))\n",
    "sns.distplot(orders['Quantity'])\n",
    "plt.title('Distribution of Quantities', fontsize=18)\n",
    "plt.xlabel('Quantity of Product', fontsize=16)"
   ]
  },
  {
   "cell_type": "code",
   "execution_count": 10,
   "metadata": {},
   "outputs": [],
   "source": [
    "# create control and experimental groups\n",
    "control = orders[orders['Discount'] == 0]\n",
    "control = control['Quantity']\n",
    "exp = orders[orders['Discount'] != 0]\n",
    "exp = exp['Quantity']"
   ]
  },
  {
   "cell_type": "code",
   "execution_count": 14,
   "metadata": {},
   "outputs": [
    {
     "name": "stdout",
     "output_type": "stream",
     "text": [
      "Normality of distribution:  NormaltestResult(statistic=544.5770045551502, pvalue=5.579637380545965e-119)\n",
      "Normality of distribution:  NormaltestResult(statistic=261.528012299789, pvalue=1.6214878452829618e-57)\n"
     ]
    }
   ],
   "source": [
    "print('Normality of distribution: ', stat.normaltest(control))\n",
    "print('Normality of distribution: ', stat.normaltest(exp))"
   ]
  },
  {
   "cell_type": "markdown",
   "metadata": {},
   "source": [
    "Both the control and experimental group are skewed to the right, therefore they are not \"normal\".  Therefore, we will be relying on CLT for the hypothesis test."
   ]
  },
  {
   "cell_type": "markdown",
   "metadata": {},
   "source": [
    "The Central Limit Theorem (CLT) is a statistical theory states that given a sufficiently large sample size from a population with a finite level of variance, the mean of all samples from the same population will be approximately equal to the mean of the population."
   ]
  },
  {
   "cell_type": "code",
   "execution_count": 16,
   "metadata": {},
   "outputs": [],
   "source": [
    "# create function to sample with replacement\n",
    "def get_sample(df, n):\n",
    "    sample = []\n",
    "    while len(sample) != n:\n",
    "        x = np.random.choice(df)\n",
    "        sample.append(x)\n",
    "    return sample\n",
    "\n",
    "# create function to calculate mean of the sample\n",
    "def get_sample_mean(sample):\n",
    "    return sum(sample)/len(sample)\n",
    "\n",
    "# combine functions to create a sample distribution\n",
    "# create a distribution size of 1000 and sample size of 500\n",
    "def create_sample_distribution(df, dist_size=1000, n=500):\n",
    "    sample_dist = [] \n",
    "    while len(sample_dist) != dist_size:\n",
    "        sample = get_sample(df, n)\n",
    "        sample_mean = get_sample_mean(sample)\n",
    "        sample_dist.append(sample_mean)\n",
    "        \n",
    "    return sample_dist\n",
    "\n"
   ]
  },
  {
   "cell_type": "code",
   "execution_count": 19,
   "metadata": {},
   "outputs": [],
   "source": [
    "# create sample distributions of sample mean for control and experimental\n",
    "ctrl_sample = create_sample_distribution(control)\n",
    "exp_sample = create_sample_distribution(exp)"
   ]
  },
  {
   "cell_type": "code",
   "execution_count": 20,
   "metadata": {
    "scrolled": true
   },
   "outputs": [
    {
     "name": "stderr",
     "output_type": "stream",
     "text": [
      "/anaconda3/envs/learn-env/lib/python3.6/site-packages/scipy/stats/stats.py:1713: FutureWarning: Using a non-tuple sequence for multidimensional indexing is deprecated; use `arr[tuple(seq)]` instead of `arr[seq]`. In the future this will be interpreted as an array index, `arr[np.array(seq)]`, which will result either in an error or a different result.\n",
      "  return np.add.reduce(sorted[indexer] * weights, axis=axis) / sumval\n"
     ]
    },
    {
     "data": {
      "text/plain": [
       "<matplotlib.legend.Legend at 0x1a19477c18>"
      ]
     },
     "execution_count": 20,
     "metadata": {},
     "output_type": "execute_result"
    },
    {
     "data": {
      "image/png": "[encoded data removed]",
      "text/plain": [
       "<Figure size 1440x720 with 1 Axes>"
      ]
     },
     "metadata": {},
     "output_type": "display_data"
    }
   ],
   "source": [
    "plt.figure(figsize = (20, 10))\n",
    "sns.distplot(ctrl_sample, label='Control')\n",
    "sns.distplot(exp_sample, label='Experimental')\n",
    "plt.title('Sampling distributions of sample mean', fontsize=16)\n",
    "plt.xlabel('quantity of product ordered', fontsize=16)\n",
    "plt.legend(frameon=False, fontsize=16, loc='best')"
   ]
  },
  {
   "cell_type": "code",
   "execution_count": 21,
   "metadata": {},
   "outputs": [
    {
     "data": {
      "text/plain": [
       "False"
      ]
     },
     "execution_count": 21,
     "metadata": {},
     "output_type": "execute_result"
    }
   ],
   "source": [
    "# test whether variances are equal\n",
    "# if True use Student t-test\n",
    "# if False use Welch's t-test\n",
    "np.var(control) == np.var(exp)"
   ]
  },
  {
   "cell_type": "code",
   "execution_count": 22,
   "metadata": {},
   "outputs": [
    {
     "data": {
      "text/plain": [
       "Ttest_indResult(statistic=137.6344349355858, pvalue=0.0)"
      ]
     },
     "execution_count": 22,
     "metadata": {},
     "output_type": "execute_result"
    }
   ],
   "source": [
    "stat.ttest_ind(exp_sample, ctrl_sample, equal_var=False)"
   ]
  },
  {
   "cell_type": "code",
   "execution_count": 23,
   "metadata": {},
   "outputs": [
    {
     "name": "stdout",
     "output_type": "stream",
     "text": [
      "Cohen's d: 6.15827896086527\n"
     ]
    }
   ],
   "source": [
    "# function for calculating Cohen's d\n",
    "def Cohen_d(group1, group2):\n",
    "\n",
    "    diff = group1.mean()-group2.mean()\n",
    "\n",
    "    n1, n2 = len(group1), len(group2)\n",
    "    var1 = group1.var()\n",
    "    var2 = group2.var()\n",
    "\n",
    "    pooled_var = (n1*var1+n2*var2) / (n1+n2)\n",
    "  \n",
    "    d = diff / np.sqrt(pooled_var)\n",
    "    \n",
    "    return d\n",
    "\n",
    "# calculate Cohen's d for target and control samples\n",
    "print(\"Cohen's d:\" , Cohen_d(np.array(exp_sample), np.array(ctrl_sample)))"
   ]
  },
  {
   "cell_type": "markdown",
   "metadata": {},
   "source": [
    "Paramaters I am used to when dealing with Cohen's d<br>\n",
    "Cohen's d <br>\n",
    "small effect = 0 to .2 std <br>\n",
    "med. effect = .2 to .5 std <br>\n",
    "large effect > .5 std <br>\n",
    "\n",
    "Learn.co's parameters <br>\n",
    "small effect = 0 to .2 std <br>\n",
    "med. effect = .2 to .8 std <br>\n",
    "large effect > .8 std <br>\n",
    "\n",
    "either way: 6.15827896086527 > large effect minimum<br>\n",
    " **Our results have a large effect size**"
   ]
  },
  {
   "cell_type": "code",
   "execution_count": 24,
   "metadata": {},
   "outputs": [
    {
     "data": {
      "text/html": [
       "<div>\n",
       "<style scoped>\n",
       "    .dataframe tbody tr th:only-of-type {\n",
       "        vertical-align: middle;\n",
       "    }\n",
       "\n",
       "    .dataframe tbody tr th {\n",
       "        vertical-align: top;\n",
       "    }\n",
       "\n",
       "    .dataframe thead th {\n",
       "        text-align: right;\n",
       "    }\n",
       "</style>\n",
       "<table border=\"1\" class=\"dataframe\">\n",
       "  <thead>\n",
       "    <tr style=\"text-align: right;\">\n",
       "      <th></th>\n",
       "      <th>count</th>\n",
       "      <th>mean</th>\n",
       "      <th>std</th>\n",
       "      <th>min</th>\n",
       "      <th>25%</th>\n",
       "      <th>50%</th>\n",
       "      <th>75%</th>\n",
       "      <th>max</th>\n",
       "    </tr>\n",
       "    <tr>\n",
       "      <th>Discount</th>\n",
       "      <th></th>\n",
       "      <th></th>\n",
       "      <th></th>\n",
       "      <th></th>\n",
       "      <th></th>\n",
       "      <th></th>\n",
       "      <th></th>\n",
       "      <th></th>\n",
       "    </tr>\n",
       "  </thead>\n",
       "  <tbody>\n",
       "    <tr>\n",
       "      <th>0.00</th>\n",
       "      <td>1317.0</td>\n",
       "      <td>21.715262</td>\n",
       "      <td>17.507493</td>\n",
       "      <td>1.0</td>\n",
       "      <td>10.0</td>\n",
       "      <td>18.0</td>\n",
       "      <td>30.0</td>\n",
       "      <td>130.0</td>\n",
       "    </tr>\n",
       "    <tr>\n",
       "      <th>0.01</th>\n",
       "      <td>1.0</td>\n",
       "      <td>2.000000</td>\n",
       "      <td>NaN</td>\n",
       "      <td>2.0</td>\n",
       "      <td>2.0</td>\n",
       "      <td>2.0</td>\n",
       "      <td>2.0</td>\n",
       "      <td>2.0</td>\n",
       "    </tr>\n",
       "    <tr>\n",
       "      <th>0.02</th>\n",
       "      <td>2.0</td>\n",
       "      <td>2.000000</td>\n",
       "      <td>1.414214</td>\n",
       "      <td>1.0</td>\n",
       "      <td>1.5</td>\n",
       "      <td>2.0</td>\n",
       "      <td>2.5</td>\n",
       "      <td>3.0</td>\n",
       "    </tr>\n",
       "    <tr>\n",
       "      <th>0.03</th>\n",
       "      <td>3.0</td>\n",
       "      <td>1.666667</td>\n",
       "      <td>0.577350</td>\n",
       "      <td>1.0</td>\n",
       "      <td>1.5</td>\n",
       "      <td>2.0</td>\n",
       "      <td>2.0</td>\n",
       "      <td>2.0</td>\n",
       "    </tr>\n",
       "    <tr>\n",
       "      <th>0.04</th>\n",
       "      <td>1.0</td>\n",
       "      <td>1.000000</td>\n",
       "      <td>NaN</td>\n",
       "      <td>1.0</td>\n",
       "      <td>1.0</td>\n",
       "      <td>1.0</td>\n",
       "      <td>1.0</td>\n",
       "      <td>1.0</td>\n",
       "    </tr>\n",
       "    <tr>\n",
       "      <th>0.05</th>\n",
       "      <td>185.0</td>\n",
       "      <td>28.010811</td>\n",
       "      <td>22.187685</td>\n",
       "      <td>1.0</td>\n",
       "      <td>14.0</td>\n",
       "      <td>20.0</td>\n",
       "      <td>40.0</td>\n",
       "      <td>120.0</td>\n",
       "    </tr>\n",
       "    <tr>\n",
       "      <th>0.06</th>\n",
       "      <td>1.0</td>\n",
       "      <td>2.000000</td>\n",
       "      <td>NaN</td>\n",
       "      <td>2.0</td>\n",
       "      <td>2.0</td>\n",
       "      <td>2.0</td>\n",
       "      <td>2.0</td>\n",
       "      <td>2.0</td>\n",
       "    </tr>\n",
       "    <tr>\n",
       "      <th>0.10</th>\n",
       "      <td>173.0</td>\n",
       "      <td>25.236994</td>\n",
       "      <td>21.186503</td>\n",
       "      <td>2.0</td>\n",
       "      <td>10.0</td>\n",
       "      <td>20.0</td>\n",
       "      <td>30.0</td>\n",
       "      <td>130.0</td>\n",
       "    </tr>\n",
       "    <tr>\n",
       "      <th>0.15</th>\n",
       "      <td>157.0</td>\n",
       "      <td>28.382166</td>\n",
       "      <td>20.923099</td>\n",
       "      <td>2.0</td>\n",
       "      <td>15.0</td>\n",
       "      <td>21.0</td>\n",
       "      <td>40.0</td>\n",
       "      <td>100.0</td>\n",
       "    </tr>\n",
       "    <tr>\n",
       "      <th>0.20</th>\n",
       "      <td>161.0</td>\n",
       "      <td>27.024845</td>\n",
       "      <td>18.832801</td>\n",
       "      <td>2.0</td>\n",
       "      <td>12.0</td>\n",
       "      <td>21.0</td>\n",
       "      <td>40.0</td>\n",
       "      <td>100.0</td>\n",
       "    </tr>\n",
       "    <tr>\n",
       "      <th>0.25</th>\n",
       "      <td>154.0</td>\n",
       "      <td>28.240260</td>\n",
       "      <td>20.120570</td>\n",
       "      <td>2.0</td>\n",
       "      <td>15.0</td>\n",
       "      <td>25.0</td>\n",
       "      <td>36.0</td>\n",
       "      <td>120.0</td>\n",
       "    </tr>\n",
       "  </tbody>\n",
       "</table>\n",
       "</div>"
      ],
      "text/plain": [
       "           count       mean        std  min   25%   50%   75%    max\n",
       "Discount                                                            \n",
       "0.00      1317.0  21.715262  17.507493  1.0  10.0  18.0  30.0  130.0\n",
       "0.01         1.0   2.000000        NaN  2.0   2.0   2.0   2.0    2.0\n",
       "0.02         2.0   2.000000   1.414214  1.0   1.5   2.0   2.5    3.0\n",
       "0.03         3.0   1.666667   0.577350  1.0   1.5   2.0   2.0    2.0\n",
       "0.04         1.0   1.000000        NaN  1.0   1.0   1.0   1.0    1.0\n",
       "0.05       185.0  28.010811  22.187685  1.0  14.0  20.0  40.0  120.0\n",
       "0.06         1.0   2.000000        NaN  2.0   2.0   2.0   2.0    2.0\n",
       "0.10       173.0  25.236994  21.186503  2.0  10.0  20.0  30.0  130.0\n",
       "0.15       157.0  28.382166  20.923099  2.0  15.0  21.0  40.0  100.0\n",
       "0.20       161.0  27.024845  18.832801  2.0  12.0  21.0  40.0  100.0\n",
       "0.25       154.0  28.240260  20.120570  2.0  15.0  25.0  36.0  120.0"
      ]
     },
     "execution_count": 24,
     "metadata": {},
     "output_type": "execute_result"
    }
   ],
   "source": [
    "orders['Quantity'].groupby(orders['Discount']).describe()"
   ]
  },
  {
   "cell_type": "code",
   "execution_count": 26,
   "metadata": {},
   "outputs": [],
   "source": [
    "# wrap with C() to indicate categorical variable\n",
    "results = ols('Quantity ~ C(Discount)', data=orders).fit()"
   ]
  },
  {
   "cell_type": "code",
   "execution_count": 27,
   "metadata": {},
   "outputs": [
    {
     "name": "stdout",
     "output_type": "stream",
     "text": [
      "                    sum_sq      df         F        PR(>F)\n",
      "C(Discount)   21258.403604    10.0  6.011811  4.704231e-09\n",
      "Residual     758141.232591  2144.0       NaN           NaN\n"
     ]
    }
   ],
   "source": [
    "aov_table = sm.stats.anova_lm(results, typ=2)\n",
    "print(aov_table)"
   ]
  },
  {
   "cell_type": "code",
   "execution_count": 28,
   "metadata": {},
   "outputs": [
    {
     "name": "stdout",
     "output_type": "stream",
     "text": [
      "Multiple Comparison of Means - Tukey HSD,FWER=0.05\n",
      "==============================================\n",
      "group1 group2 meandiff  lower    upper  reject\n",
      "----------------------------------------------\n",
      " 0.0    0.01  -19.7153 -80.3306 40.9001 False \n",
      " 0.0    0.02  -19.7153 -62.593  23.1625 False \n",
      " 0.0    0.03  -20.0486 -55.0714 14.9742 False \n",
      " 0.0    0.04  -20.7153 -81.3306 39.9001 False \n",
      " 0.0    0.05   6.2955   1.5381   11.053  True \n",
      " 0.0    0.06  -19.7153 -80.3306 40.9001 False \n",
      " 0.0    0.1    3.5217  -1.3783   8.4217 False \n",
      " 0.0    0.15   6.6669   1.551   11.7828  True \n",
      " 0.0    0.2    5.3096   0.2508  10.3684  True \n",
      " 0.0    0.25   6.525    1.3647  11.6852  True \n",
      " 0.01   0.02    0.0    -74.2101 74.2101 False \n",
      " 0.01   0.03  -0.3333  -70.2993 69.6326 False \n",
      " 0.01   0.04    -1.0   -86.6905 84.6905 False \n",
      " 0.01   0.05  26.0108  -34.745  86.7667 False \n",
      " 0.01   0.06    0.0    -85.6905 85.6905 False \n",
      " 0.01   0.1    23.237  -37.5302 84.0042 False \n",
      " 0.01   0.15  26.3822  -34.4028 87.1671 False \n",
      " 0.01   0.2   25.0248  -35.7554  85.805 False \n",
      " 0.01   0.25  26.2403  -34.5485  87.029 False \n",
      " 0.02   0.03  -0.3333  -55.6463 54.9796 False \n",
      " 0.02   0.04    -1.0   -75.2101 73.2101 False \n",
      " 0.02   0.05  26.0108  -17.0654  69.087 False \n",
      " 0.02   0.06    0.0    -74.2101 74.2101 False \n",
      " 0.02   0.1    23.237  -19.8552 66.3292 False \n",
      " 0.02   0.15  26.3822  -16.7351 69.4994 False \n",
      " 0.02   0.2   25.0248  -18.0857 68.1354 False \n",
      " 0.02   0.25  26.2403  -16.8823 69.3628 False \n",
      " 0.03   0.04  -0.6667  -70.6326 69.2993 False \n",
      " 0.03   0.05  26.3441  -8.9214  61.6096 False \n",
      " 0.03   0.06   0.3333  -69.6326 70.2993 False \n",
      " 0.03   0.1   23.5703  -11.7147 58.8553 False \n",
      " 0.03   0.15  26.7155  -8.6001  62.0311 False \n",
      " 0.03   0.2   25.3582  -9.9492  60.6656 False \n",
      " 0.03   0.25  26.5736  -8.7485  61.8957 False \n",
      " 0.04   0.05  27.0108  -33.745  87.7667 False \n",
      " 0.04   0.06    1.0    -84.6905 86.6905 False \n",
      " 0.04   0.1    24.237  -36.5302 85.0042 False \n",
      " 0.04   0.15  27.3822  -33.4028 88.1671 False \n",
      " 0.04   0.2   26.0248  -34.7554  86.805 False \n",
      " 0.04   0.25  27.2403  -33.5485  88.029 False \n",
      " 0.05   0.06  -26.0108 -86.7667  34.745 False \n",
      " 0.05   0.1   -2.7738  -9.1822   3.6346 False \n",
      " 0.05   0.15   0.3714  -6.2036   6.9463 False \n",
      " 0.05   0.2    -0.986  -7.5166   5.5447 False \n",
      " 0.05   0.25   0.2294  -6.3801   6.839  False \n",
      " 0.06   0.1    23.237  -37.5302 84.0042 False \n",
      " 0.06   0.15  26.3822  -34.4028 87.1671 False \n",
      " 0.06   0.2   25.0248  -35.7554  85.805 False \n",
      " 0.06   0.25  26.2403  -34.5485  87.029 False \n",
      " 0.1    0.15   3.1452  -3.5337   9.824  False \n",
      " 0.1    0.2    1.7879  -4.8474   8.4231 False \n",
      " 0.1    0.25   3.0033  -3.7096   9.7161 False \n",
      " 0.15   0.2   -1.3573  -8.1536   5.4389 False \n",
      " 0.15   0.25  -0.1419   -7.014   6.7302 False \n",
      " 0.2    0.25   1.2154  -5.6143   8.0451 False \n",
      "----------------------------------------------\n"
     ]
    }
   ],
   "source": [
    "mc = MultiComparison(orders['Quantity'], orders['Discount'])\n",
    "mc_results = mc.tukeyhsd()\n",
    "print(mc_results)"
   ]
  },
  {
   "cell_type": "markdown",
   "metadata": {},
   "source": [
    "**we can reject the null hypothesis**, there is a statistically significant difference at 5%,15%,20%,25%"
   ]
  },
  {
   "cell_type": "code",
   "execution_count": null,
   "metadata": {},
   "outputs": [],
   "source": []
  }
 ],
 "metadata": {
  "kernelspec": {
   "display_name": "Python 3",
   "language": "python",
   "name": "python3"
  },
  "language_info": {
   "codemirror_mode": {
    "name": "ipython",
    "version": 3
   },
   "file_extension": ".py",
   "mimetype": "text/x-python",
   "name": "python",
   "nbconvert_exporter": "python",
   "pygments_lexer": "ipython3",
   "version": "3.6.5"
  }
 },
 "nbformat": 4,
 "nbformat_minor": 2
}
